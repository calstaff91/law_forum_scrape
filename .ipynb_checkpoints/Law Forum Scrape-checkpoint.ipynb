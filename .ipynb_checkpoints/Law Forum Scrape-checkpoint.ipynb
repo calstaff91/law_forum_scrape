{
 "cells": [
  {
   "cell_type": "markdown",
   "metadata": {},
   "source": [
    "## Webscraping discussion threads on lawforum.co.uk"
   ]
  },
  {
   "cell_type": "markdown",
   "metadata": {},
   "source": [
    "As part of the cross-Government Social Media Research Group's hackathon, run on 7th July at Microsoft's UK headquarters in Reading, I webscraped [lawforum.co.uk](http://www.thelawforum.co.uk/forums/general-chat)'s discussion threads. This was part of one of the hackathon's topic areas, to explore how social media is used to help people deal with justice problems, particularly employment justice problems.\n",
    "\n",
    "There are three aims to this short piece of analysis:\n",
    "* Demonstrate how social media analysis can be used to help understand people's approaches to solving justice problems\n",
    "* Explore where the prevalence of discussions around employment justice problems lie on lawforum.com\n",
    "* See what sort of discussions take place about employment justice problems on lawforum.com\n",
    "\n",
    "This can be used as a framework when webscraping other forums for analysing how social media is used to solve justice problems.\n",
    "\n",
    "This notebook details the code which can be used to carry out this analysis. It uses three technique areas:\n",
    "* Webscraping\n",
    "* Simple word counts\n",
    "* Topic modelling - term frequency/inverse document frequency and Latent Dirichlet Algorithm"
   ]
  },
  {
   "cell_type": "markdown",
   "metadata": {},
   "source": [
    "### Stage 1: Prepare coding environment"
   ]
  },
  {
   "cell_type": "code",
   "execution_count": 1,
   "metadata": {},
   "outputs": [],
   "source": [
    "###First, import the Python modules required\n",
    "\n",
    "%matplotlib inline \n",
    "#The above line plots graphs within this notebook and not in an external windows\n",
    "\n",
    "import pandas as pd #A module to create dataframes\n",
    "import requests #A module to send requests to websites\n",
    "from lxml import html #A module to process website coding languages\n",
    "import spacy #A module to process text\n",
    "import string #A module to process text\n",
    "import nltk #A module to process text\n",
    "from nltk.corpus import stopwords #A module to process text\n",
    "from nltk.tokenize import sent_tokenize, word_tokenize #A module to process text\n",
    "from collections import Counter #A module to count the frequency of words\n",
    "import matplotlib.pyplot as plt #A module for plotting graphs\n",
    "import numpy as np #A module to perform numerical analysis\n",
    "from datetime import datetime #A module to convert times\n",
    "import sys  \n",
    "reload(sys)  \n",
    "sys.setdefaultencoding('utf8')"
   ]
  },
  {
   "cell_type": "code",
   "execution_count": 2,
   "metadata": {
    "collapsed": true
   },
   "outputs": [],
   "source": [
    "###Second, create some functions to do text mining\n",
    "\n",
    "#This line details where the libraries used for text mining are located - this path will need to be changed \n",
    "#for other computers\n",
    "nltk.data.path.append('/Users/callumstaff/Documents/Analysis/nltk_data/')\n",
    "\n",
    "#This function performs lemmatisation - turning words into their root word (e.g. plays to play, dogs to dog)\n",
    "#Note: lemmatisation often removes the 'e' off words - e.g. advice to advic\n",
    "wnl = nltk.WordNetLemmatizer()\n",
    "def lemmat_func(x):\n",
    "    my_string_split = str.split(x)\n",
    "    my_string_lemmat = map(wnl.lemmatize, my_string_split)\n",
    "    my_string = ' '.join(my_string_lemmat)\n",
    "    return my_string\n",
    "\n",
    "#This function performs stemming - similar to lemmatisation, turns words back to their 'stem' (e.g. playing to play)\n",
    "stem_func = nltk.PorterStemmer()\n",
    "def stemming_func(x):\n",
    "    my_string_split = str.split(x)\n",
    "    my_string_stem = map(stem_func.stem, my_string_split)\n",
    "    my_string = ' '.join(my_string_stem)\n",
    "    return my_string\n",
    "\n",
    "#This function removes stopwords - typically small words that appear frequently given their use (e.g. a, the, how)\n",
    "def stopwords_func(x):\n",
    "    stopWords = set(stopwords.words('english'))\n",
    "    my_string_split = word_tokenize(x)\n",
    "    my_string = []\n",
    "    for w in my_string_split:\n",
    "        if w not in stopWords:\n",
    "            my_string.append(w)\n",
    "    my_string = ' '.join(my_string)\n",
    "    return my_string"
   ]
  },
  {
   "cell_type": "markdown",
   "metadata": {},
   "source": [
    "### Webscraping\n",
    "\n",
    "If you go to lawforum.co.uk you will see the threads are 'pagenated' (distributed over a number of pages). The first page's URL is found in the code below, the variable `base_url`. The other pages follow the format of the variable `url_pagenate` - at the end of `url_pagenate` is `%d`, which is used in subsequent code to cycle through each of the pages, from page 2 to page 36.\n",
    "\n",
    "To locate the correct elements in the webpage to scrape we will use Xpaths - visit [w3schools.com](http://www.w3schools.com) for more information on Xpaths.\n",
    "\n",
    "We will scrape the title of the thread, and the URL to the thread itself. The latter will be used to access that page and scrape the comments in it."
   ]
  },
  {
   "cell_type": "code",
   "execution_count": 3,
   "metadata": {
    "collapsed": true
   },
   "outputs": [],
   "source": [
    "#Define the URLs which we will scrape\n",
    "url_base = 'http://www.thelawforum.co.uk/forums/general-chat'\n",
    "url_pagenate = 'http://www.thelawforum.co.uk/forums/general-chat?page=%d'"
   ]
  },
  {
   "cell_type": "markdown",
   "metadata": {},
   "source": [
    "The picture below shows the design of the webpage to be scraped, and the corresponding XHTML code, which will be used to build the XPath.\n",
    "\n",
    "![](thelawforum.png)\n",
    "\n",
    "You can see on the righthand side, the highlighted code, which corresponds to the element of the webpage relating to the thread. The XPath for the hyperlink is `//td/a/@href`. This means:\n",
    "1. `//`: Any item which is a descendant of the root node (the very first element in the script to build this webpage\n",
    "2. `td`: A standard cell within a table\n",
    "3. `a`: An anchor element, used for links\n",
    "4. `@href`: An attribute of the `a` element, which contains hyperlinks\n",
    "\n",
    "So, this XPath says _within anywhere in the document, find me the values of the attribute `href` which sit within an anchor element which itself sits in a table cell.\n",
    "\n",
    "The XPath for the thread title is the same for parts 1 to 3, except the fourth stage uses `text()` instead of `@href`. This `text()` part requests the text associated with the `href`."
   ]
  },
  {
   "cell_type": "code",
   "execution_count": 4,
   "metadata": {},
   "outputs": [],
   "source": [
    "### Scrape the first page using the base_url variable\n",
    "\n",
    "#Create empty links to scrape the data into\n",
    "links_list = []\n",
    "titles_list = []\n",
    "\n",
    "page = requests.get(url_base) #This sends a request to url_base and gets the contents of the webpage back\n",
    "tree = html.fromstring(page.content) #This turns the contents of the webpage into a tree\n",
    "links = tree.xpath('//td/a/@href') #This is the XPath for the hyperlink to each of the threads, detailed above\n",
    "links = ['http://www.thelawforum.co.uk' + url for url in links] #This concatenates the hyperlink with the site url\n",
    "title = tree.xpath('//td/a/text()') #This is the Xpath for the title of each thread, as detailed above\n",
    "links_list = links_list + links #This adds each link to the empty list\n",
    "titles_list = titles_list + title #This adds each title to the empty list"
   ]
  },
  {
   "cell_type": "code",
   "execution_count": 5,
   "metadata": {},
   "outputs": [],
   "source": [
    "#This code scrapes the 2nd to 37th pages. It uses the same code as above, except applies it to a for loop, which\n",
    "#places each number between 1 (the 2nd page) and 36 (the 37th page) in the %d of the url_pagenate variable\n",
    "for url in [url_pagenate % i for i in range(1,37)]:\n",
    "    page = requests.get(url)\n",
    "    tree = html.fromstring(page.content)\n",
    "    links = tree.xpath('//td/a/@href')\n",
    "    links = ['http://www.thelawforum.co.uk' + url for url in links]\n",
    "    title = tree.xpath('//td/a/text()')\n",
    "    links_list = links_list + links\n",
    "    titles_list = titles_list + title"
   ]
  },
  {
   "cell_type": "markdown",
   "metadata": {},
   "source": [
    "### Data Manipulation\n",
    "\n",
    "Here we tidy up the data to put it into a format which can be analysed. The first 10 rows of the dataframe are shown as an example below."
   ]
  },
  {
   "cell_type": "code",
   "execution_count": 6,
   "metadata": {
    "scrolled": true
   },
   "outputs": [
    {
     "data": {
      "text/html": [
       "<div>\n",
       "<table border=\"1\" class=\"dataframe\">\n",
       "  <thead>\n",
       "    <tr style=\"text-align: right;\">\n",
       "      <th></th>\n",
       "      <th>Issue</th>\n",
       "      <th>URL</th>\n",
       "    </tr>\n",
       "  </thead>\n",
       "  <tbody>\n",
       "    <tr>\n",
       "      <th>0</th>\n",
       "      <td>Financial Non-Disclosure</td>\n",
       "      <td>http://www.thelawforum.co.uk/financial-non-dis...</td>\n",
       "    </tr>\n",
       "    <tr>\n",
       "      <th>1</th>\n",
       "      <td>Paintings of famous people</td>\n",
       "      <td>http://www.thelawforum.co.uk/paintings-famous-...</td>\n",
       "    </tr>\n",
       "    <tr>\n",
       "      <th>2</th>\n",
       "      <td>How do I estimate how long an employment tribu...</td>\n",
       "      <td>http://www.thelawforum.co.uk/how-do-i-estimate...</td>\n",
       "    </tr>\n",
       "    <tr>\n",
       "      <th>3</th>\n",
       "      <td>Still struggling with self-assessment?</td>\n",
       "      <td>http://www.thelawforum.co.uk/still-struggling-...</td>\n",
       "    </tr>\n",
       "    <tr>\n",
       "      <th>4</th>\n",
       "      <td>Contest Employment Tribunal Extension Request?</td>\n",
       "      <td>http://www.thelawforum.co.uk/contest-employmen...</td>\n",
       "    </tr>\n",
       "    <tr>\n",
       "      <th>5</th>\n",
       "      <td>UK Bribery Act</td>\n",
       "      <td>http://www.thelawforum.co.uk/uk-bribery-act-0</td>\n",
       "    </tr>\n",
       "    <tr>\n",
       "      <th>6</th>\n",
       "      <td>Caravan on 'private' land</td>\n",
       "      <td>http://www.thelawforum.co.uk/caravan-private-land</td>\n",
       "    </tr>\n",
       "    <tr>\n",
       "      <th>7</th>\n",
       "      <td>Share capital/shares</td>\n",
       "      <td>http://www.thelawforum.co.uk/share-capitalshares</td>\n",
       "    </tr>\n",
       "    <tr>\n",
       "      <th>8</th>\n",
       "      <td>Common assault</td>\n",
       "      <td>http://www.thelawforum.co.uk/common-assault-2</td>\n",
       "    </tr>\n",
       "  </tbody>\n",
       "</table>\n",
       "</div>"
      ],
      "text/plain": [
       "                                               Issue  \\\n",
       "0                           Financial Non-Disclosure   \n",
       "1                         Paintings of famous people   \n",
       "2  How do I estimate how long an employment tribu...   \n",
       "3             Still struggling with self-assessment?   \n",
       "4    Contest Employment Tribunal Extension Request?    \n",
       "5                                     UK Bribery Act   \n",
       "6                          Caravan on 'private' land   \n",
       "7                               Share capital/shares   \n",
       "8                                    Common assault    \n",
       "\n",
       "                                                 URL  \n",
       "0  http://www.thelawforum.co.uk/financial-non-dis...  \n",
       "1  http://www.thelawforum.co.uk/paintings-famous-...  \n",
       "2  http://www.thelawforum.co.uk/how-do-i-estimate...  \n",
       "3  http://www.thelawforum.co.uk/still-struggling-...  \n",
       "4  http://www.thelawforum.co.uk/contest-employmen...  \n",
       "5      http://www.thelawforum.co.uk/uk-bribery-act-0  \n",
       "6  http://www.thelawforum.co.uk/caravan-private-land  \n",
       "7   http://www.thelawforum.co.uk/share-capitalshares  \n",
       "8      http://www.thelawforum.co.uk/common-assault-2  "
      ]
     },
     "execution_count": 6,
     "metadata": {},
     "output_type": "execute_result"
    }
   ],
   "source": [
    "#This turns the webscraped data into a dataframe\n",
    "Law_Forum_Issues = {\"Issue\": titles_list,\"URL\": links_list}\n",
    "Law_Forum_Issues = pd.DataFrame(Law_Forum_Issues)\n",
    "Law_Forum_Issues[0:9]"
   ]
  },
  {
   "cell_type": "code",
   "execution_count": 7,
   "metadata": {},
   "outputs": [],
   "source": [
    "#Remove all punctuation from the thread titles (this uses regular expressions)\n",
    "Law_Forum_Issues['Issue'] = Law_Forum_Issues['Issue'].str.replace('[^\\w\\s]','')"
   ]
  },
  {
   "cell_type": "code",
   "execution_count": 8,
   "metadata": {},
   "outputs": [],
   "source": [
    "#Turn all text to lower case\n",
    "Law_Forum_Issues['Issue'] = Law_Forum_Issues['Issue'].str.lower()"
   ]
  },
  {
   "cell_type": "markdown",
   "metadata": {},
   "source": [
    "The next bit of code highlights a problem with social media data: there are a number of threads advertising cheap kitchens or furniture, either from a spammer or a bot. The image below shows this, but they must be removed in order to process the data accurately.\n",
    "\n",
    "![](cheapkitchens.png)\n",
    "![](furniture.png)"
   ]
  },
  {
   "cell_type": "code",
   "execution_count": 9,
   "metadata": {
    "collapsed": true
   },
   "outputs": [],
   "source": [
    "#Remove threads which contain the string 'cheap kitchens' or 'furniture'\n",
    "Law_Forum_Issues = Law_Forum_Issues[Law_Forum_Issues.Issue.str.contains(\"cheap kitchens|furniture\") == False]"
   ]
  },
  {
   "cell_type": "code",
   "execution_count": 10,
   "metadata": {},
   "outputs": [],
   "source": [
    "#Strings can be encoded in a certain way - this changes the format to one which can be processed with text mining\n",
    "Law_Forum_Issues['Issue'] = Law_Forum_Issues['Issue'].apply(lambda x: x.encode('utf-8'))"
   ]
  },
  {
   "cell_type": "markdown",
   "metadata": {},
   "source": [
    "### Text Mining\n",
    "\n",
    "We will now use the functions defined at the top of the notebook to perform text mining."
   ]
  },
  {
   "cell_type": "code",
   "execution_count": null,
   "metadata": {},
   "outputs": [],
   "source": [
    "#Code to download NTLK libraries\n",
    "#These need only be run once\n",
    "nltk.download(\"INSERT LIBRARY HERE\", \"INSERT PATH HERE/nltk_data/\")"
   ]
  },
  {
   "cell_type": "code",
   "execution_count": 11,
   "metadata": {},
   "outputs": [],
   "source": [
    "#Lemmatisation\n",
    "Law_Forum_Issues['Issue2'] = Law_Forum_Issues['Issue'].apply(lambda x: lemmat_func(x))\n",
    "\n",
    "#Stemming\n",
    "Law_Forum_Issues['Issue2'] = Law_Forum_Issues['Issue2'].apply(lambda x: x.encode('utf-8'))\n",
    "Law_Forum_Issues['Issue2'] = Law_Forum_Issues['Issue2'].apply(lambda x: stemming_func(x))\n",
    "\n",
    "#Removing stopwords\n",
    "Law_Forum_Issues['Issue2'] = Law_Forum_Issues['Issue2'].apply(lambda x: stopwords_func(x))"
   ]
  },
  {
   "cell_type": "code",
   "execution_count": 12,
   "metadata": {},
   "outputs": [],
   "source": [
    "#Count the frequency of words within the titles and create a new dataframe\n",
    "Word_Count = pd.DataFrame(Counter(\" \".join(Law_Forum_Issues['Issue2']).split(\" \")).items())"
   ]
  },
  {
   "cell_type": "code",
   "execution_count": 13,
   "metadata": {},
   "outputs": [],
   "source": [
    "#Rename columns\n",
    "Word_Count.columns = ['Word','Count']"
   ]
  },
  {
   "cell_type": "code",
   "execution_count": 14,
   "metadata": {},
   "outputs": [],
   "source": [
    "#Remove the first line, which counts blanks\n",
    "Word_Count = Word_Count.ix[1:]"
   ]
  },
  {
   "cell_type": "code",
   "execution_count": 15,
   "metadata": {},
   "outputs": [],
   "source": [
    "#Order in descending order of frequency \n",
    "Word_Count = Word_Count.sort_values(by='Count',ascending=False)\n",
    "Word_Count = pd.DataFrame(Word_Count)"
   ]
  },
  {
   "cell_type": "code",
   "execution_count": 16,
   "metadata": {},
   "outputs": [
    {
     "data": {
      "text/html": [
       "<div>\n",
       "<table border=\"1\" class=\"dataframe\">\n",
       "  <thead>\n",
       "    <tr style=\"text-align: right;\">\n",
       "      <th></th>\n",
       "      <th>Word</th>\n",
       "      <th>Count</th>\n",
       "    </tr>\n",
       "  </thead>\n",
       "  <tbody>\n",
       "    <tr>\n",
       "      <th>332</th>\n",
       "      <td>employ</td>\n",
       "      <td>54</td>\n",
       "    </tr>\n",
       "    <tr>\n",
       "      <th>744</th>\n",
       "      <td>advic</td>\n",
       "      <td>52</td>\n",
       "    </tr>\n",
       "    <tr>\n",
       "      <th>925</th>\n",
       "      <td>legal</td>\n",
       "      <td>49</td>\n",
       "    </tr>\n",
       "    <tr>\n",
       "      <th>1127</th>\n",
       "      <td>court</td>\n",
       "      <td>46</td>\n",
       "    </tr>\n",
       "    <tr>\n",
       "      <th>330</th>\n",
       "      <td>properti</td>\n",
       "      <td>44</td>\n",
       "    </tr>\n",
       "    <tr>\n",
       "      <th>583</th>\n",
       "      <td>claim</td>\n",
       "      <td>43</td>\n",
       "    </tr>\n",
       "    <tr>\n",
       "      <th>768</th>\n",
       "      <td>cheap</td>\n",
       "      <td>40</td>\n",
       "    </tr>\n",
       "    <tr>\n",
       "      <th>1776</th>\n",
       "      <td>need</td>\n",
       "      <td>38</td>\n",
       "    </tr>\n",
       "    <tr>\n",
       "      <th>1584</th>\n",
       "      <td>pleas</td>\n",
       "      <td>37</td>\n",
       "    </tr>\n",
       "  </tbody>\n",
       "</table>\n",
       "</div>"
      ],
      "text/plain": [
       "          Word  Count\n",
       "332     employ     54\n",
       "744      advic     52\n",
       "925      legal     49\n",
       "1127     court     46\n",
       "330   properti     44\n",
       "583      claim     43\n",
       "768      cheap     40\n",
       "1776      need     38\n",
       "1584     pleas     37"
      ]
     },
     "execution_count": 16,
     "metadata": {},
     "output_type": "execute_result"
    }
   ],
   "source": [
    "#Remove some words which aren't stopwords but appear very frequently and aren't very insightful\n",
    "#Also remove words which appear less than 20 times as they don't give insight\n",
    "#The top 10 rows have been displayed\n",
    "Word_Count = Word_Count[(Word_Count.Count < 70) & (Word_Count.Count > 20)]\n",
    "Word_Count[0:9]"
   ]
  },
  {
   "cell_type": "code",
   "execution_count": 17,
   "metadata": {
    "scrolled": true
   },
   "outputs": [
    {
     "data": {
      "image/png": "[encoded data removed]",
      "text/plain": [
       "<matplotlib.figure.Figure at 0x11bcefd90>"
      ]
     },
     "metadata": {},
     "output_type": "display_data"
    }
   ],
   "source": [
    "#Plot a graph to show the most frequent words\n",
    "Word_Count = Word_Count.sort_values(by='Count',ascending=True)\n",
    "plt.rc(\"figure\", facecolor=\"white\")\n",
    "fig, ax = plt.subplots(figsize=(8,8))\n",
    "y_pos = np.arange(len(Word_Count['Word']))\n",
    "\n",
    "ax.barh(y_pos + 1, Word_Count['Count'], align='center', color='green',edgecolor = \"none\")\n",
    "ax.set_yticks(y_pos+1)\n",
    "ax.set_yticklabels(Word_Count['Word'], fontsize = 10)\n",
    "ax.set_xlabel('Number of Mentions', fontsize = 11)\n",
    "ax.set_title('What are the most common words on lawforum.com thread titles?')\n",
    "ax.set_xlim([0,52])\n",
    "ax.set_ylim([0,36])\n",
    "ax.spines['right'].set_visible(False)\n",
    "ax.spines['left'].set_visible(False)\n",
    "ax.spines['top'].set_visible(False)\n",
    "ax.yaxis.set_ticks_position('none')\n",
    "ax.xaxis.set_ticks_position('none')\n",
    "plt.tick_params(axis='x', which='major', labelsize=10)\n",
    "plt.show()"
   ]
  },
  {
   "cell_type": "markdown",
   "metadata": {},
   "source": [
    "We can see that the most frequent word is 'employ' - so it appears that the most frequent topic for discussion on the website are employment issues. A little further down we can also see 'properti' - the stem of property, and 'hous' - the stem of house, as well as landlord and tenant, suggesting that real estate justice issues are also a major area of focus."
   ]
  },
  {
   "cell_type": "markdown",
   "metadata": {},
   "source": [
    "## Webscraping comments\n",
    "\n",
    "We will now scrape the comments from each of the threads. The data will contain:\n",
    "* The URL\n",
    "* The initial comment\n",
    "* When the initial comment was posted\n",
    "* Posts replying to the comment\n",
    "* The time of the posts\n",
    "* The legal expertise of the poster"
   ]
  },
  {
   "cell_type": "code",
   "execution_count": 27,
   "metadata": {},
   "outputs": [
    {
     "data": {
      "text/plain": [
       "{'1.Init_Post': u'I purchased a piece of land over 12 years ago which did not come with any title guarantee. I now wish to register this with the land registry. Does anyone know how I do this please?  thanks so much',\n",
       " '2.Time_Posted': '17/08/17 22:47',\n",
       " '3.URL': 'http://www.thelawforum.co.uk/how-register-land-unregistered-title',\n",
       " '4.Discussion_Posts': [u'How did you manage that? Registration has been compulsory for years. https://www.gov.uk/government/publications/first-registrations/practice-...',\n",
       "  u'I read that it had to be done within 3 months and that regime started in 1998?  i have another look at the emails from the solicitor when it was purchased in 2005. The solicitor said the land registry had refused to register the land because its previous use of grazing livestock and cutting hay was not sufficiently strong to warrant granting of title. So we purchased indemnity insurance and was told to wait 10/12 years before trying again. was this advice incorrect?  thanks',\n",
       "  u'sounds about right. Try with LR again.',\n",
       "  u'Registration has been must for any land you buy from someone. How did you manage this issue from last 12 years. You need to consult a good lawyer. Or need to create documents as soon as possible.'],\n",
       " '5.Discussion_Post_Times': ['18/08/17 08:19',\n",
       "  '18/08/17 09:42',\n",
       "  '18/08/17 13:25',\n",
       "  '02/09/17 06:14']}"
      ]
     },
     "execution_count": 27,
     "metadata": {},
     "output_type": "execute_result"
    }
   ],
   "source": [
    "url = links_list[9]\n",
    "page = requests.get(url)\n",
    "tree = html.fromstring(page.content)\n",
    "time_posted = tree.xpath('//div/div/div/span/text()')\n",
    "time_posted = time_posted[0][-18:].replace(\"- \",\"\")\n",
    "time_posted = time_posted.replace(\"/20\",\"/\")\n",
    "#time_posted = datetime.strptime(time_posted,\"%d/%m/%y %H:%M\")\n",
    "init_post = tree.xpath('//div[contains(@class, \"node\")]/div[contains(@class, \"content\")]/p/text()')\n",
    "init_post = ' '.join(init_post)\n",
    "init_post = init_post.replace(u\"\\xa0\",\"\")\n",
    "discussion_posts = []\n",
    "count_posts = tree.xpath('count(//div[contains(@class, \"comment\")]/div[contains(@class, \"content\")])')\n",
    "num = 1\n",
    "while num < count_posts+1:\n",
    "    post_xpath = '//div[contains(@class, \"comment\")][%d]/div[contains(@class, \"content\")]//text()' % num\n",
    "    post = tree.xpath(post_xpath)\n",
    "    post = post[::2]\n",
    "    post = ' '.join(post)\n",
    "    post = post.replace(u\"\\xa0\",\"\")\n",
    "    post\n",
    "    num += 1\n",
    "    discussion_posts.append(post)\n",
    "num = 1\n",
    "post_date_xpath = '//div[contains(@class, \"submitted\")]/text()'\n",
    "post_dates = tree.xpath(post_date_xpath)\n",
    "post_dates = [post_date[-19:-1] for post_date in post_dates]\n",
    "post_dates = [post_date.replace(\"- \",\"\") for post_date in post_dates]\n",
    "post_dates = [post_date.replace(\"/20\",\"/\") for post_date in post_dates]\n",
    "#post_dates = [datetime.strptime(post_date,\"%d/%m/%y %H:%M\") for post_date in post_dates]\n",
    "if len(discussion_posts) == 0:\n",
    "    discussion_posts = ''\n",
    "if len(post_dates) == 0:\n",
    "    post_dates = ''\n",
    "thread = {\"1.Init_Post\": init_post,\n",
    "         \"2.Time_Posted\": time_posted,\n",
    "         \"3.URL\": url,\n",
    "         \"4.Discussion_Posts\": discussion_posts,\n",
    "         \"5.Discussion_Post_Times\": post_dates}\n",
    "\n",
    "thread"
   ]
  }
 ],
 "metadata": {
  "anaconda-cloud": {},
  "kernelspec": {
   "display_name": "Python [Root]",
   "language": "python",
   "name": "Python [Root]"
  },
  "language_info": {
   "codemirror_mode": {
    "name": "ipython",
    "version": 2
   },
   "file_extension": ".py",
   "mimetype": "text/x-python",
   "name": "python",
   "nbconvert_exporter": "python",
   "pygments_lexer": "ipython2",
   "version": "2.7.11"
  }
 },
 "nbformat": 4,
 "nbformat_minor": 1
}
